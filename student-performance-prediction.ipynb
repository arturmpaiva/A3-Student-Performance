{
 "cells": [
  {
   "cell_type": "markdown",
   "id": "a51ae758",
   "metadata": {
    "papermill": {
     "duration": 0.014613,
     "end_time": "2024-10-22T01:15:58.320722",
     "exception": false,
     "start_time": "2024-10-22T01:15:58.306109",
     "status": "completed"
    },
    "tags": []
   },
   "source": [
    "# **Predição de Perfomance de Estudantes**"
   ]
  },
  {
   "cell_type": "code",
   "execution_count": 1,
   "id": "f65e7903",
   "metadata": {
    "_cell_guid": "b1076dfc-b9ad-4769-8c92-a6c4dae69d19",
    "_uuid": "8f2839f25d086af736a60e9eeb907d3b93b6e0e5",
    "execution": {
     "iopub.execute_input": "2024-10-22T01:15:58.343858Z",
     "iopub.status.busy": "2024-10-22T01:15:58.342791Z",
     "iopub.status.idle": "2024-10-22T01:16:02.435641Z",
     "shell.execute_reply": "2024-10-22T01:16:02.434509Z"
    },
    "papermill": {
     "duration": 4.107202,
     "end_time": "2024-10-22T01:16:02.438426",
     "exception": false,
     "start_time": "2024-10-22T01:15:58.331224",
     "status": "completed"
    },
    "tags": []
   },
   "outputs": [],
   "source": [
    "import numpy as np \n",
    "import pandas as pd\n",
    "import matplotlib.pyplot as plt\n",
    "import plotly.express as px\n",
    "import seaborn as sns\n",
    "import re\n",
    "from sklearn.preprocessing import OneHotEncoder, LabelEncoder\n",
    "from sklearn.linear_model import LinearRegression\n",
    "from sklearn.model_selection import train_test_split\n",
    "from sklearn import metrics"
   ]
  },
  {
   "cell_type": "code",
   "execution_count": 2,
   "id": "00fb6282",
   "metadata": {
    "execution": {
     "iopub.execute_input": "2024-10-22T01:16:02.460765Z",
     "iopub.status.busy": "2024-10-22T01:16:02.459441Z",
     "iopub.status.idle": "2024-10-22T01:16:02.569766Z",
     "shell.execute_reply": "2024-10-22T01:16:02.568711Z"
    },
    "papermill": {
     "duration": 0.124548,
     "end_time": "2024-10-22T01:16:02.572657",
     "exception": false,
     "start_time": "2024-10-22T01:16:02.448109",
     "status": "completed"
    },
    "tags": []
   },
   "outputs": [],
   "source": [
    "data = pd.read_csv('../input/student-data/student_data.csv')\n",
    "copyData = data.copy()"
   ]
  },
  {
   "cell_type": "markdown",
   "id": "635f84da",
   "metadata": {
    "papermill": {
     "duration": 0.009695,
     "end_time": "2024-10-22T01:16:02.592414",
     "exception": false,
     "start_time": "2024-10-22T01:16:02.582719",
     "status": "completed"
    },
    "tags": []
   },
   "source": [
    "**DADOS:**\n",
    "\n",
    "**Student ID.\n",
    "Study Hours per Week**: Horas de estudo semanais (tem negativos)\n",
    "\n",
    "**Attendance Rate**: Porcentagem de presença (tem valores maiores que 100)\n",
    "\n",
    "**Previous Grades**: Média das notas passadas (tem valores maiores que 100)\n",
    "\n",
    "**Participation in Extracurricular Activities**: Atividades Extracurriculares\n",
    "\n",
    "**Parent Education Level**: Maior nível educacional dos pais\n",
    "\n",
    "**Passed**: Passou ou não."
   ]
  },
  {
   "cell_type": "markdown",
   "id": "95170a05",
   "metadata": {
    "papermill": {
     "duration": 0.009479,
     "end_time": "2024-10-22T01:16:02.611651",
     "exception": false,
     "start_time": "2024-10-22T01:16:02.602172",
     "status": "completed"
    },
    "tags": []
   },
   "source": [
    "# 1. Tratando Dados"
   ]
  },
  {
   "cell_type": "markdown",
   "id": "45a7634a",
   "metadata": {
    "papermill": {
     "duration": 0.009419,
     "end_time": "2024-10-22T01:16:02.631222",
     "exception": false,
     "start_time": "2024-10-22T01:16:02.621803",
     "status": "completed"
    },
    "tags": []
   },
   "source": [
    "**1.1 Checar quantos valores diferentes em cada coluna, quantas linhas duplicadas e remover ID porque é irrelevante para a análise**"
   ]
  },
  {
   "cell_type": "code",
   "execution_count": 3,
   "id": "539a296a",
   "metadata": {
    "execution": {
     "iopub.execute_input": "2024-10-22T01:16:02.652311Z",
     "iopub.status.busy": "2024-10-22T01:16:02.651879Z",
     "iopub.status.idle": "2024-10-22T01:16:02.735517Z",
     "shell.execute_reply": "2024-10-22T01:16:02.733952Z"
    },
    "papermill": {
     "duration": 0.09737,
     "end_time": "2024-10-22T01:16:02.738208",
     "exception": false,
     "start_time": "2024-10-22T01:16:02.640838",
     "status": "completed"
    },
    "tags": []
   },
   "outputs": [
    {
     "name": "stdout",
     "output_type": "stream",
     "text": [
      "Student ID                                     40000\n",
      "Study Hours per Week                             355\n",
      "Attendance Rate                                 1235\n",
      "Previous Grades                                  956\n",
      "Participation in Extracurricular Activities        2\n",
      "Parent Education Level                             5\n",
      "Passed                                             2\n",
      "dtype: int64\n",
      "Duplicated Rows: 0\n"
     ]
    }
   ],
   "source": [
    "print(copyData.nunique())\n",
    "\n",
    "print(\"Duplicated Rows:\",copyData.duplicated().sum())\n",
    "copyData = copyData.drop(columns='Student ID', axis=1)"
   ]
  },
  {
   "cell_type": "markdown",
   "id": "0bc77351",
   "metadata": {
    "papermill": {
     "duration": 0.009763,
     "end_time": "2024-10-22T01:16:02.757943",
     "exception": false,
     "start_time": "2024-10-22T01:16:02.748180",
     "status": "completed"
    },
    "tags": []
   },
   "source": [
    "**1.2 Transformar valores negativos para positivos**"
   ]
  },
  {
   "cell_type": "code",
   "execution_count": 4,
   "id": "45f59720",
   "metadata": {
    "execution": {
     "iopub.execute_input": "2024-10-22T01:16:02.779579Z",
     "iopub.status.busy": "2024-10-22T01:16:02.779080Z",
     "iopub.status.idle": "2024-10-22T01:16:02.796954Z",
     "shell.execute_reply": "2024-10-22T01:16:02.795488Z"
    },
    "papermill": {
     "duration": 0.031828,
     "end_time": "2024-10-22T01:16:02.799605",
     "exception": false,
     "start_time": "2024-10-22T01:16:02.767777",
     "status": "completed"
    },
    "tags": []
   },
   "outputs": [
    {
     "name": "stdout",
     "output_type": "stream",
     "text": [
      "     Study Hours per Week  Attendance Rate  Previous Grades  \\\n",
      "74                   -3.1             37.3             43.1   \n",
      "236                  -0.1             50.0             65.9   \n",
      "262                  -6.2             98.7             26.2   \n",
      "366                  -1.0            101.5             66.8   \n",
      "382                  -0.6             34.9              NaN   \n",
      "\n",
      "    Participation in Extracurricular Activities Parent Education Level Passed  \n",
      "74                                           No                 Master    Yes  \n",
      "236                                          No               Bachelor     No  \n",
      "262                                         Yes            High School    Yes  \n",
      "366                                          No                    NaN     No  \n",
      "382                                         Yes                 Master    Yes  \n"
     ]
    }
   ],
   "source": [
    "negative_hours = copyData[copyData['Study Hours per Week'] < 0]\n",
    "print(negative_hours.head())\n",
    "copyData['Study Hours per Week'] = copyData['Study Hours per Week'].abs()"
   ]
  },
  {
   "cell_type": "markdown",
   "id": "3a3bcabb",
   "metadata": {
    "papermill": {
     "duration": 0.009548,
     "end_time": "2024-10-22T01:16:02.819226",
     "exception": false,
     "start_time": "2024-10-22T01:16:02.809678",
     "status": "completed"
    },
    "tags": []
   },
   "source": [
    "**1.3 Presença maior que 100% vai ficar igual a 100%**"
   ]
  },
  {
   "cell_type": "code",
   "execution_count": 5,
   "id": "dde1f2f6",
   "metadata": {
    "execution": {
     "iopub.execute_input": "2024-10-22T01:16:02.841633Z",
     "iopub.status.busy": "2024-10-22T01:16:02.840439Z",
     "iopub.status.idle": "2024-10-22T01:16:02.853164Z",
     "shell.execute_reply": "2024-10-22T01:16:02.851546Z"
    },
    "papermill": {
     "duration": 0.026717,
     "end_time": "2024-10-22T01:16:02.855797",
     "exception": false,
     "start_time": "2024-10-22T01:16:02.829080",
     "status": "completed"
    },
    "tags": []
   },
   "outputs": [
    {
     "name": "stdout",
     "output_type": "stream",
     "text": [
      "Study Hours per Week                             1.0\n",
      "Attendance Rate                                101.5\n",
      "Previous Grades                                 66.8\n",
      "Participation in Extracurricular Activities       No\n",
      "Parent Education Level                           NaN\n",
      "Passed                                            No\n",
      "Name: 366, dtype: object\n",
      "Study Hours per Week                             1.0\n",
      "Attendance Rate                                100.0\n",
      "Previous Grades                                 66.8\n",
      "Participation in Extracurricular Activities       No\n",
      "Parent Education Level                           NaN\n",
      "Passed                                            No\n",
      "Name: 366, dtype: object\n"
     ]
    }
   ],
   "source": [
    "# Limitar os valores da coluna 'Attendance Rate' a um máximo de 100\n",
    "print(copyData.loc[366])\n",
    "copyData['Attendance Rate'] = copyData['Attendance Rate'].clip(upper=100)\n",
    "\n",
    "print(copyData.loc[366])\n"
   ]
  },
  {
   "cell_type": "markdown",
   "id": "5af804d8",
   "metadata": {
    "papermill": {
     "duration": 0.009822,
     "end_time": "2024-10-22T01:16:02.875796",
     "exception": false,
     "start_time": "2024-10-22T01:16:02.865974",
     "status": "completed"
    },
    "tags": []
   },
   "source": [
    "**1.4 Linhas onde a média das notas anteriores é maior que 100 serão removidas**"
   ]
  },
  {
   "cell_type": "code",
   "execution_count": 6,
   "id": "bc1235c0",
   "metadata": {
    "execution": {
     "iopub.execute_input": "2024-10-22T01:16:02.898623Z",
     "iopub.status.busy": "2024-10-22T01:16:02.898109Z",
     "iopub.status.idle": "2024-10-22T01:16:02.910092Z",
     "shell.execute_reply": "2024-10-22T01:16:02.908657Z"
    },
    "papermill": {
     "duration": 0.026281,
     "end_time": "2024-10-22T01:16:02.912945",
     "exception": false,
     "start_time": "2024-10-22T01:16:02.886664",
     "status": "completed"
    },
    "tags": []
   },
   "outputs": [
    {
     "name": "stdout",
     "output_type": "stream",
     "text": [
      "Study Hours per Week                                  13.6\n",
      "Attendance Rate                                       59.4\n",
      "Previous Grades                                      102.0\n",
      "Participation in Extracurricular Activities            Yes\n",
      "Parent Education Level                         High School\n",
      "Passed                                                  No\n",
      "Name: 185, dtype: object\n"
     ]
    }
   ],
   "source": [
    "print(copyData.loc[185])\n",
    "copyData = copyData[copyData['Previous Grades'] <= 100]"
   ]
  },
  {
   "cell_type": "markdown",
   "id": "03e17d77",
   "metadata": {
    "papermill": {
     "duration": 0.009857,
     "end_time": "2024-10-22T01:16:02.932962",
     "exception": false,
     "start_time": "2024-10-22T01:16:02.923105",
     "status": "completed"
    },
    "tags": []
   },
   "source": [
    "**1.5 Eliminar valores nulos, substituindo pelo valor da média nas variáveis numéricas, por \"No\" para a variável Participação de Atividades Extracurriculares, por \"High School\" para a variável Nível de Escolaridade dos Pais e eliminando as linhas da variável Passed**"
   ]
  },
  {
   "cell_type": "code",
   "execution_count": 7,
   "id": "b7507af8",
   "metadata": {
    "execution": {
     "iopub.execute_input": "2024-10-22T01:16:02.955566Z",
     "iopub.status.busy": "2024-10-22T01:16:02.954555Z",
     "iopub.status.idle": "2024-10-22T01:16:02.985588Z",
     "shell.execute_reply": "2024-10-22T01:16:02.984437Z"
    },
    "papermill": {
     "duration": 0.045358,
     "end_time": "2024-10-22T01:16:02.988406",
     "exception": false,
     "start_time": "2024-10-22T01:16:02.943048",
     "status": "completed"
    },
    "tags": []
   },
   "outputs": [],
   "source": [
    "count = 0\n",
    "for variavel in copyData.columns:\n",
    "    if count < 3:\n",
    "        copyData[variavel] = copyData[variavel].fillna(copyData[variavel].mean())\n",
    "        count += 1\n",
    "    elif count == 3:\n",
    "        copyData[variavel] = copyData[variavel].fillna('No')\n",
    "        count += 1\n",
    "    elif count == 4:\n",
    "        copyData[variavel] = copyData[variavel].fillna('High School')\n",
    "        count += 1\n",
    "    elif count == 5:\n",
    "        copyData = copyData.dropna(subset=['Passed'])"
   ]
  },
  {
   "cell_type": "markdown",
   "id": "be49aacc",
   "metadata": {
    "papermill": {
     "duration": 0.012864,
     "end_time": "2024-10-22T01:16:03.011651",
     "exception": false,
     "start_time": "2024-10-22T01:16:02.998787",
     "status": "completed"
    },
    "tags": []
   },
   "source": [
    "**1.6 Tratar variáveis não numéricas assinalando valores binários (variáveis categóricas)**"
   ]
  },
  {
   "cell_type": "code",
   "execution_count": 8,
   "id": "0c59848a",
   "metadata": {
    "execution": {
     "iopub.execute_input": "2024-10-22T01:16:03.034387Z",
     "iopub.status.busy": "2024-10-22T01:16:03.033509Z",
     "iopub.status.idle": "2024-10-22T01:16:03.051839Z",
     "shell.execute_reply": "2024-10-22T01:16:03.050676Z"
    },
    "papermill": {
     "duration": 0.03268,
     "end_time": "2024-10-22T01:16:03.054609",
     "exception": false,
     "start_time": "2024-10-22T01:16:03.021929",
     "status": "completed"
    },
    "tags": []
   },
   "outputs": [],
   "source": [
    "copyData['Passed'] = copyData['Passed'].map({'Yes': 1, 'No': 0})\n",
    "copyData['Participation in Extracurricular Activities'] = copyData['Participation in Extracurricular Activities'].map({'Yes': 1, 'No': 0})"
   ]
  },
  {
   "cell_type": "markdown",
   "id": "33b0c973",
   "metadata": {
    "papermill": {
     "duration": 0.009858,
     "end_time": "2024-10-22T01:16:03.074702",
     "exception": false,
     "start_time": "2024-10-22T01:16:03.064844",
     "status": "completed"
    },
    "tags": []
   },
   "source": [
    "**1.7 Atribuir valores numéricos para a variável 'Parent Education Level'**"
   ]
  },
  {
   "cell_type": "code",
   "execution_count": 9,
   "id": "e7c2b14b",
   "metadata": {
    "execution": {
     "iopub.execute_input": "2024-10-22T01:16:03.096808Z",
     "iopub.status.busy": "2024-10-22T01:16:03.096343Z",
     "iopub.status.idle": "2024-10-22T01:16:03.118813Z",
     "shell.execute_reply": "2024-10-22T01:16:03.117453Z"
    },
    "papermill": {
     "duration": 0.036644,
     "end_time": "2024-10-22T01:16:03.121549",
     "exception": false,
     "start_time": "2024-10-22T01:16:03.084905",
     "status": "completed"
    },
    "tags": []
   },
   "outputs": [
    {
     "name": "stdout",
     "output_type": "stream",
     "text": [
      "   Study Hours per Week  Attendance Rate  Previous Grades  \\\n",
      "0                  12.5         74.14879             75.0   \n",
      "1                   9.3         95.30000             60.6   \n",
      "2                  13.2         74.14879             64.0   \n",
      "3                  17.6         76.80000             62.4   \n",
      "4                   8.8         89.30000             72.7   \n",
      "\n",
      "   Participation in Extracurricular Activities  Parent Education Level  Passed  \n",
      "0                                            1                       4       1  \n",
      "1                                            0                       3       0  \n",
      "2                                            0                       0       0  \n",
      "3                                            1                       1       0  \n",
      "4                                            0                       4       0  \n"
     ]
    }
   ],
   "source": [
    "le = LabelEncoder()\n",
    "\n",
    "copyData['Parent Education Level'] = le.fit_transform(copyData['Parent Education Level'])\n",
    "print(copyData.head())"
   ]
  },
  {
   "cell_type": "markdown",
   "id": "11cdd2bd",
   "metadata": {
    "papermill": {
     "duration": 0.010621,
     "end_time": "2024-10-22T01:16:03.142615",
     "exception": false,
     "start_time": "2024-10-22T01:16:03.131994",
     "status": "completed"
    },
    "tags": []
   },
   "source": [
    "* 0 = Associate\n",
    "* 1 = Bachelor\n",
    "* 2 = High School\n",
    "* 3 = Master\n",
    "* 4 = Doctorate"
   ]
  },
  {
   "cell_type": "markdown",
   "id": "4a3ef3d7",
   "metadata": {
    "papermill": {
     "duration": 0.009983,
     "end_time": "2024-10-22T01:16:03.163199",
     "exception": false,
     "start_time": "2024-10-22T01:16:03.153216",
     "status": "completed"
    },
    "tags": []
   },
   "source": [
    "**Verificar se o tratamento deu certo**"
   ]
  },
  {
   "cell_type": "code",
   "execution_count": 10,
   "id": "98c8662f",
   "metadata": {
    "execution": {
     "iopub.execute_input": "2024-10-22T01:16:03.187414Z",
     "iopub.status.busy": "2024-10-22T01:16:03.186954Z",
     "iopub.status.idle": "2024-10-22T01:16:03.200376Z",
     "shell.execute_reply": "2024-10-22T01:16:03.199138Z"
    },
    "papermill": {
     "duration": 0.028205,
     "end_time": "2024-10-22T01:16:03.203131",
     "exception": false,
     "start_time": "2024-10-22T01:16:03.174926",
     "status": "completed"
    },
    "tags": []
   },
   "outputs": [
    {
     "name": "stdout",
     "output_type": "stream",
     "text": [
      "Study Hours per Week                           0\n",
      "Attendance Rate                                0\n",
      "Previous Grades                                0\n",
      "Participation in Extracurricular Activities    0\n",
      "Parent Education Level                         0\n",
      "Passed                                         0\n",
      "dtype: int64\n",
      "Study Hours per Week                           275\n",
      "Attendance Rate                                867\n",
      "Previous Grades                                819\n",
      "Participation in Extracurricular Activities      2\n",
      "Parent Education Level                           5\n",
      "Passed                                           2\n",
      "dtype: int64\n"
     ]
    }
   ],
   "source": [
    "print(copyData.isnull().sum())\n",
    "print(copyData.nunique())"
   ]
  },
  {
   "cell_type": "markdown",
   "id": "9e728692",
   "metadata": {
    "papermill": {
     "duration": 0.010317,
     "end_time": "2024-10-22T01:16:03.223975",
     "exception": false,
     "start_time": "2024-10-22T01:16:03.213658",
     "status": "completed"
    },
    "tags": []
   },
   "source": [
    "# 2. Analisando dados numéricos"
   ]
  },
  {
   "cell_type": "code",
   "execution_count": 11,
   "id": "b7d33803",
   "metadata": {
    "execution": {
     "iopub.execute_input": "2024-10-22T01:16:03.246942Z",
     "iopub.status.busy": "2024-10-22T01:16:03.246523Z",
     "iopub.status.idle": "2024-10-22T01:16:03.256084Z",
     "shell.execute_reply": "2024-10-22T01:16:03.254760Z"
    },
    "papermill": {
     "duration": 0.024164,
     "end_time": "2024-10-22T01:16:03.258852",
     "exception": false,
     "start_time": "2024-10-22T01:16:03.234688",
     "status": "completed"
    },
    "tags": []
   },
   "outputs": [
    {
     "name": "stdout",
     "output_type": "stream",
     "text": [
      "Média de horas de estudo semanais: 10.06\n",
      "Média da presença: 74.14\n",
      "Média de notas anteriores: 64.67\n"
     ]
    }
   ],
   "source": [
    "print('Média de horas de estudo semanais:',copyData['Study Hours per Week'].mean().round(2))\n",
    "print('Média da presença:',copyData['Attendance Rate'].mean().round(2))\n",
    "print('Média de notas anteriores:',copyData['Previous Grades'].mean().round(2))"
   ]
  },
  {
   "cell_type": "markdown",
   "id": "eb393089",
   "metadata": {
    "papermill": {
     "duration": 0.010187,
     "end_time": "2024-10-22T01:16:03.279629",
     "exception": false,
     "start_time": "2024-10-22T01:16:03.269442",
     "status": "completed"
    },
    "tags": []
   },
   "source": [
    "# Em gráfico"
   ]
  },
  {
   "cell_type": "code",
   "execution_count": 12,
   "id": "4f8f36d3",
   "metadata": {
    "execution": {
     "iopub.execute_input": "2024-10-22T01:16:03.303279Z",
     "iopub.status.busy": "2024-10-22T01:16:03.302201Z",
     "iopub.status.idle": "2024-10-22T01:16:04.649421Z",
     "shell.execute_reply": "2024-10-22T01:16:04.647906Z"
    },
    "papermill": {
     "duration": 1.361969,
     "end_time": "2024-10-22T01:16:04.652078",
     "exception": false,
     "start_time": "2024-10-22T01:16:03.290109",
     "status": "completed"
    },
    "tags": []
   },
   "outputs": [
    {
     "data": {
      "image/png": "[encoded data removed]",
      "text/plain": [
       "<Figure size 800x800 with 6 Axes>"
      ]
     },
     "metadata": {},
     "output_type": "display_data"
    }
   ],
   "source": [
    "numerical_df = copyData.select_dtypes(include=['float64', 'int64'])\n",
    "\n",
    "numerical_df.hist(color='#8A2BE2', figsize=(8, 8), bins=10)\n",
    "plt.suptitle('Histograms of Numerical Columns', fontsize=14)\n",
    "plt.show()"
   ]
  },
  {
   "cell_type": "code",
   "execution_count": 13,
   "id": "7ba55352",
   "metadata": {
    "execution": {
     "iopub.execute_input": "2024-10-22T01:16:04.677868Z",
     "iopub.status.busy": "2024-10-22T01:16:04.677382Z",
     "iopub.status.idle": "2024-10-22T01:16:06.735555Z",
     "shell.execute_reply": "2024-10-22T01:16:06.733950Z"
    },
    "papermill": {
     "duration": 2.074753,
     "end_time": "2024-10-22T01:16:06.738790",
     "exception": false,
     "start_time": "2024-10-22T01:16:04.664037",
     "status": "completed"
    },
    "tags": []
   },
   "outputs": [
    {
     "data": {
      "text/html": [
       "        <script type=\"text/javascript\">\n",
       "        window.PlotlyConfig = {MathJaxConfig: 'local'};\n",
       "        if (window.MathJax && window.MathJax.Hub && window.MathJax.Hub.Config) {window.MathJax.Hub.Config({SVG: {font: \"STIX-Web\"}});}\n",
       "        if (typeof require !== 'undefined') {\n",
       "        require.undef(\"plotly\");\n",
       "        requirejs.config({\n",
       "            paths: {\n",
       "                'plotly': ['https://cdn.plot.ly/plotly-2.32.0.min']\n",
       "            }\n",
       "        });\n",
       "        require(['plotly'], function(Plotly) {\n",
       "            window._Plotly = Plotly;\n",
       "        });\n",
       "        }\n",
       "        </script>\n",
       "        "
      ]
     },
     "metadata": {},
     "output_type": "display_data"
    },
    {
     "data": {
      "text/html": [
       "<div>                            <div id=\"48c205da-7543-4007-afc7-ecd759418076\" class=\"plotly-graph-div\" style=\"height:500px; width:500px;\"></div>            <script type=\"text/javascript\">                require([\"plotly\"], function(Plotly) {                    window.PLOTLYENV=window.PLOTLYENV || {};                                    if (document.getElementById(\"48c205da-7543-4007-afc7-ecd759418076\")) {                    Plotly.newPlot(                        \"48c205da-7543-4007-afc7-ecd759418076\",                        [{\"alignmentgroup\":\"True\",\"hovertemplate\":\"Passed=%{marker.color}\\u003cbr\\u003eCount=%{y}\\u003cextra\\u003e\\u003c\\u002fextra\\u003e\",\"legendgroup\":\"\",\"marker\":{\"color\":[1,0],\"coloraxis\":\"coloraxis\",\"pattern\":{\"shape\":\"\"}},\"name\":\"\",\"offsetgroup\":\"\",\"orientation\":\"v\",\"showlegend\":false,\"textposition\":\"auto\",\"x\":[1,0],\"xaxis\":\"x\",\"y\":[17837,17823],\"yaxis\":\"y\",\"type\":\"bar\"}],                        {\"template\":{\"data\":{\"histogram2dcontour\":[{\"type\":\"histogram2dcontour\",\"colorbar\":{\"outlinewidth\":0,\"ticks\":\"\"},\"colorscale\":[[0.0,\"#0d0887\"],[0.1111111111111111,\"#46039f\"],[0.2222222222222222,\"#7201a8\"],[0.3333333333333333,\"#9c179e\"],[0.4444444444444444,\"#bd3786\"],[0.5555555555555556,\"#d8576b\"],[0.6666666666666666,\"#ed7953\"],[0.7777777777777778,\"#fb9f3a\"],[0.8888888888888888,\"#fdca26\"],[1.0,\"#f0f921\"]]}],\"choropleth\":[{\"type\":\"choropleth\",\"colorbar\":{\"outlinewidth\":0,\"ticks\":\"\"}}],\"histogram2d\":[{\"type\":\"histogram2d\",\"colorbar\":{\"outlinewidth\":0,\"ticks\":\"\"},\"colorscale\":[[0.0,\"#0d0887\"],[0.1111111111111111,\"#46039f\"],[0.2222222222222222,\"#7201a8\"],[0.3333333333333333,\"#9c179e\"],[0.4444444444444444,\"#bd3786\"],[0.5555555555555556,\"#d8576b\"],[0.6666666666666666,\"#ed7953\"],[0.7777777777777778,\"#fb9f3a\"],[0.8888888888888888,\"#fdca26\"],[1.0,\"#f0f921\"]]}],\"heatmap\":[{\"type\":\"heatmap\",\"colorbar\":{\"outlinewidth\":0,\"ticks\":\"\"},\"colorscale\":[[0.0,\"#0d0887\"],[0.1111111111111111,\"#46039f\"],[0.2222222222222222,\"#7201a8\"],[0.3333333333333333,\"#9c179e\"],[0.4444444444444444,\"#bd3786\"],[0.5555555555555556,\"#d8576b\"],[0.6666666666666666,\"#ed7953\"],[0.7777777777777778,\"#fb9f3a\"],[0.8888888888888888,\"#fdca26\"],[1.0,\"#f0f921\"]]}],\"heatmapgl\":[{\"type\":\"heatmapgl\",\"colorbar\":{\"outlinewidth\":0,\"ticks\":\"\"},\"colorscale\":[[0.0,\"#0d0887\"],[0.1111111111111111,\"#46039f\"],[0.2222222222222222,\"#7201a8\"],[0.3333333333333333,\"#9c179e\"],[0.4444444444444444,\"#bd3786\"],[0.5555555555555556,\"#d8576b\"],[0.6666666666666666,\"#ed7953\"],[0.7777777777777778,\"#fb9f3a\"],[0.8888888888888888,\"#fdca26\"],[1.0,\"#f0f921\"]]}],\"contourcarpet\":[{\"type\":\"contourcarpet\",\"colorbar\":{\"outlinewidth\":0,\"ticks\":\"\"}}],\"contour\":[{\"type\":\"contour\",\"colorbar\":{\"outlinewidth\":0,\"ticks\":\"\"},\"colorscale\":[[0.0,\"#0d0887\"],[0.1111111111111111,\"#46039f\"],[0.2222222222222222,\"#7201a8\"],[0.3333333333333333,\"#9c179e\"],[0.4444444444444444,\"#bd3786\"],[0.5555555555555556,\"#d8576b\"],[0.6666666666666666,\"#ed7953\"],[0.7777777777777778,\"#fb9f3a\"],[0.8888888888888888,\"#fdca26\"],[1.0,\"#f0f921\"]]}],\"surface\":[{\"type\":\"surface\",\"colorbar\":{\"outlinewidth\":0,\"ticks\":\"\"},\"colorscale\":[[0.0,\"#0d0887\"],[0.1111111111111111,\"#46039f\"],[0.2222222222222222,\"#7201a8\"],[0.3333333333333333,\"#9c179e\"],[0.4444444444444444,\"#bd3786\"],[0.5555555555555556,\"#d8576b\"],[0.6666666666666666,\"#ed7953\"],[0.7777777777777778,\"#fb9f3a\"],[0.8888888888888888,\"#fdca26\"],[1.0,\"#f0f921\"]]}],\"mesh3d\":[{\"type\":\"mesh3d\",\"colorbar\":{\"outlinewidth\":0,\"ticks\":\"\"}}],\"scatter\":[{\"fillpattern\":{\"fillmode\":\"overlay\",\"size\":10,\"solidity\":0.2},\"type\":\"scatter\"}],\"parcoords\":[{\"type\":\"parcoords\",\"line\":{\"colorbar\":{\"outlinewidth\":0,\"ticks\":\"\"}}}],\"scatterpolargl\":[{\"type\":\"scatterpolargl\",\"marker\":{\"colorbar\":{\"outlinewidth\":0,\"ticks\":\"\"}}}],\"bar\":[{\"error_x\":{\"color\":\"#2a3f5f\"},\"error_y\":{\"color\":\"#2a3f5f\"},\"marker\":{\"line\":{\"color\":\"#E5ECF6\",\"width\":0.5},\"pattern\":{\"fillmode\":\"overlay\",\"size\":10,\"solidity\":0.2}},\"type\":\"bar\"}],\"scattergeo\":[{\"type\":\"scattergeo\",\"marker\":{\"colorbar\":{\"outlinewidth\":0,\"ticks\":\"\"}}}],\"scatterpolar\":[{\"type\":\"scatterpolar\",\"marker\":{\"colorbar\":{\"outlinewidth\":0,\"ticks\":\"\"}}}],\"histogram\":[{\"marker\":{\"pattern\":{\"fillmode\":\"overlay\",\"size\":10,\"solidity\":0.2}},\"type\":\"histogram\"}],\"scattergl\":[{\"type\":\"scattergl\",\"marker\":{\"colorbar\":{\"outlinewidth\":0,\"ticks\":\"\"}}}],\"scatter3d\":[{\"type\":\"scatter3d\",\"line\":{\"colorbar\":{\"outlinewidth\":0,\"ticks\":\"\"}},\"marker\":{\"colorbar\":{\"outlinewidth\":0,\"ticks\":\"\"}}}],\"scattermapbox\":[{\"type\":\"scattermapbox\",\"marker\":{\"colorbar\":{\"outlinewidth\":0,\"ticks\":\"\"}}}],\"scatterternary\":[{\"type\":\"scatterternary\",\"marker\":{\"colorbar\":{\"outlinewidth\":0,\"ticks\":\"\"}}}],\"scattercarpet\":[{\"type\":\"scattercarpet\",\"marker\":{\"colorbar\":{\"outlinewidth\":0,\"ticks\":\"\"}}}],\"carpet\":[{\"aaxis\":{\"endlinecolor\":\"#2a3f5f\",\"gridcolor\":\"white\",\"linecolor\":\"white\",\"minorgridcolor\":\"white\",\"startlinecolor\":\"#2a3f5f\"},\"baxis\":{\"endlinecolor\":\"#2a3f5f\",\"gridcolor\":\"white\",\"linecolor\":\"white\",\"minorgridcolor\":\"white\",\"startlinecolor\":\"#2a3f5f\"},\"type\":\"carpet\"}],\"table\":[{\"cells\":{\"fill\":{\"color\":\"#EBF0F8\"},\"line\":{\"color\":\"white\"}},\"header\":{\"fill\":{\"color\":\"#C8D4E3\"},\"line\":{\"color\":\"white\"}},\"type\":\"table\"}],\"barpolar\":[{\"marker\":{\"line\":{\"color\":\"#E5ECF6\",\"width\":0.5},\"pattern\":{\"fillmode\":\"overlay\",\"size\":10,\"solidity\":0.2}},\"type\":\"barpolar\"}],\"pie\":[{\"automargin\":true,\"type\":\"pie\"}]},\"layout\":{\"autotypenumbers\":\"strict\",\"colorway\":[\"#636efa\",\"#EF553B\",\"#00cc96\",\"#ab63fa\",\"#FFA15A\",\"#19d3f3\",\"#FF6692\",\"#B6E880\",\"#FF97FF\",\"#FECB52\"],\"font\":{\"color\":\"#2a3f5f\"},\"hovermode\":\"closest\",\"hoverlabel\":{\"align\":\"left\"},\"paper_bgcolor\":\"white\",\"plot_bgcolor\":\"#E5ECF6\",\"polar\":{\"bgcolor\":\"#E5ECF6\",\"angularaxis\":{\"gridcolor\":\"white\",\"linecolor\":\"white\",\"ticks\":\"\"},\"radialaxis\":{\"gridcolor\":\"white\",\"linecolor\":\"white\",\"ticks\":\"\"}},\"ternary\":{\"bgcolor\":\"#E5ECF6\",\"aaxis\":{\"gridcolor\":\"white\",\"linecolor\":\"white\",\"ticks\":\"\"},\"baxis\":{\"gridcolor\":\"white\",\"linecolor\":\"white\",\"ticks\":\"\"},\"caxis\":{\"gridcolor\":\"white\",\"linecolor\":\"white\",\"ticks\":\"\"}},\"coloraxis\":{\"colorbar\":{\"outlinewidth\":0,\"ticks\":\"\"}},\"colorscale\":{\"sequential\":[[0.0,\"#0d0887\"],[0.1111111111111111,\"#46039f\"],[0.2222222222222222,\"#7201a8\"],[0.3333333333333333,\"#9c179e\"],[0.4444444444444444,\"#bd3786\"],[0.5555555555555556,\"#d8576b\"],[0.6666666666666666,\"#ed7953\"],[0.7777777777777778,\"#fb9f3a\"],[0.8888888888888888,\"#fdca26\"],[1.0,\"#f0f921\"]],\"sequentialminus\":[[0.0,\"#0d0887\"],[0.1111111111111111,\"#46039f\"],[0.2222222222222222,\"#7201a8\"],[0.3333333333333333,\"#9c179e\"],[0.4444444444444444,\"#bd3786\"],[0.5555555555555556,\"#d8576b\"],[0.6666666666666666,\"#ed7953\"],[0.7777777777777778,\"#fb9f3a\"],[0.8888888888888888,\"#fdca26\"],[1.0,\"#f0f921\"]],\"diverging\":[[0,\"#8e0152\"],[0.1,\"#c51b7d\"],[0.2,\"#de77ae\"],[0.3,\"#f1b6da\"],[0.4,\"#fde0ef\"],[0.5,\"#f7f7f7\"],[0.6,\"#e6f5d0\"],[0.7,\"#b8e186\"],[0.8,\"#7fbc41\"],[0.9,\"#4d9221\"],[1,\"#276419\"]]},\"xaxis\":{\"gridcolor\":\"white\",\"linecolor\":\"white\",\"ticks\":\"\",\"title\":{\"standoff\":15},\"zerolinecolor\":\"white\",\"automargin\":true,\"zerolinewidth\":2},\"yaxis\":{\"gridcolor\":\"white\",\"linecolor\":\"white\",\"ticks\":\"\",\"title\":{\"standoff\":15},\"zerolinecolor\":\"white\",\"automargin\":true,\"zerolinewidth\":2},\"scene\":{\"xaxis\":{\"backgroundcolor\":\"#E5ECF6\",\"gridcolor\":\"white\",\"linecolor\":\"white\",\"showbackground\":true,\"ticks\":\"\",\"zerolinecolor\":\"white\",\"gridwidth\":2},\"yaxis\":{\"backgroundcolor\":\"#E5ECF6\",\"gridcolor\":\"white\",\"linecolor\":\"white\",\"showbackground\":true,\"ticks\":\"\",\"zerolinecolor\":\"white\",\"gridwidth\":2},\"zaxis\":{\"backgroundcolor\":\"#E5ECF6\",\"gridcolor\":\"white\",\"linecolor\":\"white\",\"showbackground\":true,\"ticks\":\"\",\"zerolinecolor\":\"white\",\"gridwidth\":2}},\"shapedefaults\":{\"line\":{\"color\":\"#2a3f5f\"}},\"annotationdefaults\":{\"arrowcolor\":\"#2a3f5f\",\"arrowhead\":0,\"arrowwidth\":1},\"geo\":{\"bgcolor\":\"white\",\"landcolor\":\"#E5ECF6\",\"subunitcolor\":\"white\",\"showland\":true,\"showlakes\":true,\"lakecolor\":\"white\"},\"title\":{\"x\":0.05},\"mapbox\":{\"style\":\"light\"}}},\"xaxis\":{\"anchor\":\"y\",\"domain\":[0.0,1.0],\"title\":{\"text\":\"Passou\"}},\"yaxis\":{\"anchor\":\"x\",\"domain\":[0.0,1.0],\"title\":{\"text\":\"Alunos\"}},\"coloraxis\":{\"colorbar\":{\"title\":{\"text\":\"Passed\"}},\"colorscale\":[[0.0,\"#0d0887\"],[0.1111111111111111,\"#46039f\"],[0.2222222222222222,\"#7201a8\"],[0.3333333333333333,\"#9c179e\"],[0.4444444444444444,\"#bd3786\"],[0.5555555555555556,\"#d8576b\"],[0.6666666666666666,\"#ed7953\"],[0.7777777777777778,\"#fb9f3a\"],[0.8888888888888888,\"#fdca26\"],[1.0,\"#f0f921\"]]},\"legend\":{\"tracegroupgap\":0},\"title\":{\"text\":\"Nº de alunos que passaram e não passaram\"},\"barmode\":\"relative\",\"width\":500,\"height\":500},                        {\"responsive\": true}                    ).then(function(){\n",
       "                            \n",
       "var gd = document.getElementById('48c205da-7543-4007-afc7-ecd759418076');\n",
       "var x = new MutationObserver(function (mutations, observer) {{\n",
       "        var display = window.getComputedStyle(gd).display;\n",
       "        if (!display || display === 'none') {{\n",
       "            console.log([gd, 'removed!']);\n",
       "            Plotly.purge(gd);\n",
       "            observer.disconnect();\n",
       "        }}\n",
       "}});\n",
       "\n",
       "// Listen for the removal of the full notebook cells\n",
       "var notebookContainer = gd.closest('#notebook-container');\n",
       "if (notebookContainer) {{\n",
       "    x.observe(notebookContainer, {childList: true});\n",
       "}}\n",
       "\n",
       "// Listen for the clearing of the current output cell\n",
       "var outputEl = gd.closest('.output');\n",
       "if (outputEl) {{\n",
       "    x.observe(outputEl, {childList: true});\n",
       "}}\n",
       "\n",
       "                        })                };                });            </script>        </div>"
      ]
     },
     "metadata": {},
     "output_type": "display_data"
    }
   ],
   "source": [
    "target_dis = copyData['Passed'].value_counts().reset_index()\n",
    "target_dis.columns = ['Passed', 'Count']\n",
    "\n",
    "custom_colors = ['#F0A500', '#F26D3F']\n",
    "\n",
    "fig = px.bar(target_dis, x='Passed', y='Count', title='Nº de alunos que passaram e não passaram', color='Passed')\n",
    "\n",
    "fig.update_layout(xaxis_title='Passou', yaxis_title='Alunos', width = 500, height = 500)\n",
    "\n",
    "fig.show()"
   ]
  },
  {
   "cell_type": "markdown",
   "id": "d970b5b8",
   "metadata": {
    "papermill": {
     "duration": 0.012555,
     "end_time": "2024-10-22T01:16:06.764427",
     "exception": false,
     "start_time": "2024-10-22T01:16:06.751872",
     "status": "completed"
    },
    "tags": []
   },
   "source": [
    "# Analisando variáveis Categóricas"
   ]
  },
  {
   "cell_type": "code",
   "execution_count": 14,
   "id": "4a2c9b3a",
   "metadata": {
    "execution": {
     "iopub.execute_input": "2024-10-22T01:16:06.790869Z",
     "iopub.status.busy": "2024-10-22T01:16:06.790436Z",
     "iopub.status.idle": "2024-10-22T01:16:06.880538Z",
     "shell.execute_reply": "2024-10-22T01:16:06.879150Z"
    },
    "papermill": {
     "duration": 0.106547,
     "end_time": "2024-10-22T01:16:06.883224",
     "exception": false,
     "start_time": "2024-10-22T01:16:06.776677",
     "status": "completed"
    },
    "tags": []
   },
   "outputs": [
    {
     "data": {
      "text/html": [
       "<div>                            <div id=\"4f8c00b4-8990-4abd-95b2-ef7c52330a91\" class=\"plotly-graph-div\" style=\"height:500px; width:800px;\"></div>            <script type=\"text/javascript\">                require([\"plotly\"], function(Plotly) {                    window.PLOTLYENV=window.PLOTLYENV || {};                                    if (document.getElementById(\"4f8c00b4-8990-4abd-95b2-ef7c52330a91\")) {                    Plotly.newPlot(                        \"4f8c00b4-8990-4abd-95b2-ef7c52330a91\",                        [{\"alignmentgroup\":\"True\",\"hovertemplate\":\"Participation in Extracurricular Activities=%{marker.color}\\u003cbr\\u003eCount=%{y}\\u003cextra\\u003e\\u003c\\u002fextra\\u003e\",\"legendgroup\":\"\",\"marker\":{\"color\":[0,1],\"coloraxis\":\"coloraxis\",\"pattern\":{\"shape\":\"\"}},\"name\":\"\",\"offsetgroup\":\"\",\"orientation\":\"v\",\"showlegend\":false,\"textposition\":\"auto\",\"x\":[0,1],\"xaxis\":\"x\",\"y\":[18694,16966],\"yaxis\":\"y\",\"type\":\"bar\"}],                        {\"template\":{\"data\":{\"histogram2dcontour\":[{\"type\":\"histogram2dcontour\",\"colorbar\":{\"outlinewidth\":0,\"ticks\":\"\"},\"colorscale\":[[0.0,\"#0d0887\"],[0.1111111111111111,\"#46039f\"],[0.2222222222222222,\"#7201a8\"],[0.3333333333333333,\"#9c179e\"],[0.4444444444444444,\"#bd3786\"],[0.5555555555555556,\"#d8576b\"],[0.6666666666666666,\"#ed7953\"],[0.7777777777777778,\"#fb9f3a\"],[0.8888888888888888,\"#fdca26\"],[1.0,\"#f0f921\"]]}],\"choropleth\":[{\"type\":\"choropleth\",\"colorbar\":{\"outlinewidth\":0,\"ticks\":\"\"}}],\"histogram2d\":[{\"type\":\"histogram2d\",\"colorbar\":{\"outlinewidth\":0,\"ticks\":\"\"},\"colorscale\":[[0.0,\"#0d0887\"],[0.1111111111111111,\"#46039f\"],[0.2222222222222222,\"#7201a8\"],[0.3333333333333333,\"#9c179e\"],[0.4444444444444444,\"#bd3786\"],[0.5555555555555556,\"#d8576b\"],[0.6666666666666666,\"#ed7953\"],[0.7777777777777778,\"#fb9f3a\"],[0.8888888888888888,\"#fdca26\"],[1.0,\"#f0f921\"]]}],\"heatmap\":[{\"type\":\"heatmap\",\"colorbar\":{\"outlinewidth\":0,\"ticks\":\"\"},\"colorscale\":[[0.0,\"#0d0887\"],[0.1111111111111111,\"#46039f\"],[0.2222222222222222,\"#7201a8\"],[0.3333333333333333,\"#9c179e\"],[0.4444444444444444,\"#bd3786\"],[0.5555555555555556,\"#d8576b\"],[0.6666666666666666,\"#ed7953\"],[0.7777777777777778,\"#fb9f3a\"],[0.8888888888888888,\"#fdca26\"],[1.0,\"#f0f921\"]]}],\"heatmapgl\":[{\"type\":\"heatmapgl\",\"colorbar\":{\"outlinewidth\":0,\"ticks\":\"\"},\"colorscale\":[[0.0,\"#0d0887\"],[0.1111111111111111,\"#46039f\"],[0.2222222222222222,\"#7201a8\"],[0.3333333333333333,\"#9c179e\"],[0.4444444444444444,\"#bd3786\"],[0.5555555555555556,\"#d8576b\"],[0.6666666666666666,\"#ed7953\"],[0.7777777777777778,\"#fb9f3a\"],[0.8888888888888888,\"#fdca26\"],[1.0,\"#f0f921\"]]}],\"contourcarpet\":[{\"type\":\"contourcarpet\",\"colorbar\":{\"outlinewidth\":0,\"ticks\":\"\"}}],\"contour\":[{\"type\":\"contour\",\"colorbar\":{\"outlinewidth\":0,\"ticks\":\"\"},\"colorscale\":[[0.0,\"#0d0887\"],[0.1111111111111111,\"#46039f\"],[0.2222222222222222,\"#7201a8\"],[0.3333333333333333,\"#9c179e\"],[0.4444444444444444,\"#bd3786\"],[0.5555555555555556,\"#d8576b\"],[0.6666666666666666,\"#ed7953\"],[0.7777777777777778,\"#fb9f3a\"],[0.8888888888888888,\"#fdca26\"],[1.0,\"#f0f921\"]]}],\"surface\":[{\"type\":\"surface\",\"colorbar\":{\"outlinewidth\":0,\"ticks\":\"\"},\"colorscale\":[[0.0,\"#0d0887\"],[0.1111111111111111,\"#46039f\"],[0.2222222222222222,\"#7201a8\"],[0.3333333333333333,\"#9c179e\"],[0.4444444444444444,\"#bd3786\"],[0.5555555555555556,\"#d8576b\"],[0.6666666666666666,\"#ed7953\"],[0.7777777777777778,\"#fb9f3a\"],[0.8888888888888888,\"#fdca26\"],[1.0,\"#f0f921\"]]}],\"mesh3d\":[{\"type\":\"mesh3d\",\"colorbar\":{\"outlinewidth\":0,\"ticks\":\"\"}}],\"scatter\":[{\"fillpattern\":{\"fillmode\":\"overlay\",\"size\":10,\"solidity\":0.2},\"type\":\"scatter\"}],\"parcoords\":[{\"type\":\"parcoords\",\"line\":{\"colorbar\":{\"outlinewidth\":0,\"ticks\":\"\"}}}],\"scatterpolargl\":[{\"type\":\"scatterpolargl\",\"marker\":{\"colorbar\":{\"outlinewidth\":0,\"ticks\":\"\"}}}],\"bar\":[{\"error_x\":{\"color\":\"#2a3f5f\"},\"error_y\":{\"color\":\"#2a3f5f\"},\"marker\":{\"line\":{\"color\":\"#E5ECF6\",\"width\":0.5},\"pattern\":{\"fillmode\":\"overlay\",\"size\":10,\"solidity\":0.2}},\"type\":\"bar\"}],\"scattergeo\":[{\"type\":\"scattergeo\",\"marker\":{\"colorbar\":{\"outlinewidth\":0,\"ticks\":\"\"}}}],\"scatterpolar\":[{\"type\":\"scatterpolar\",\"marker\":{\"colorbar\":{\"outlinewidth\":0,\"ticks\":\"\"}}}],\"histogram\":[{\"marker\":{\"pattern\":{\"fillmode\":\"overlay\",\"size\":10,\"solidity\":0.2}},\"type\":\"histogram\"}],\"scattergl\":[{\"type\":\"scattergl\",\"marker\":{\"colorbar\":{\"outlinewidth\":0,\"ticks\":\"\"}}}],\"scatter3d\":[{\"type\":\"scatter3d\",\"line\":{\"colorbar\":{\"outlinewidth\":0,\"ticks\":\"\"}},\"marker\":{\"colorbar\":{\"outlinewidth\":0,\"ticks\":\"\"}}}],\"scattermapbox\":[{\"type\":\"scattermapbox\",\"marker\":{\"colorbar\":{\"outlinewidth\":0,\"ticks\":\"\"}}}],\"scatterternary\":[{\"type\":\"scatterternary\",\"marker\":{\"colorbar\":{\"outlinewidth\":0,\"ticks\":\"\"}}}],\"scattercarpet\":[{\"type\":\"scattercarpet\",\"marker\":{\"colorbar\":{\"outlinewidth\":0,\"ticks\":\"\"}}}],\"carpet\":[{\"aaxis\":{\"endlinecolor\":\"#2a3f5f\",\"gridcolor\":\"white\",\"linecolor\":\"white\",\"minorgridcolor\":\"white\",\"startlinecolor\":\"#2a3f5f\"},\"baxis\":{\"endlinecolor\":\"#2a3f5f\",\"gridcolor\":\"white\",\"linecolor\":\"white\",\"minorgridcolor\":\"white\",\"startlinecolor\":\"#2a3f5f\"},\"type\":\"carpet\"}],\"table\":[{\"cells\":{\"fill\":{\"color\":\"#EBF0F8\"},\"line\":{\"color\":\"white\"}},\"header\":{\"fill\":{\"color\":\"#C8D4E3\"},\"line\":{\"color\":\"white\"}},\"type\":\"table\"}],\"barpolar\":[{\"marker\":{\"line\":{\"color\":\"#E5ECF6\",\"width\":0.5},\"pattern\":{\"fillmode\":\"overlay\",\"size\":10,\"solidity\":0.2}},\"type\":\"barpolar\"}],\"pie\":[{\"automargin\":true,\"type\":\"pie\"}]},\"layout\":{\"autotypenumbers\":\"strict\",\"colorway\":[\"#636efa\",\"#EF553B\",\"#00cc96\",\"#ab63fa\",\"#FFA15A\",\"#19d3f3\",\"#FF6692\",\"#B6E880\",\"#FF97FF\",\"#FECB52\"],\"font\":{\"color\":\"#2a3f5f\"},\"hovermode\":\"closest\",\"hoverlabel\":{\"align\":\"left\"},\"paper_bgcolor\":\"white\",\"plot_bgcolor\":\"#E5ECF6\",\"polar\":{\"bgcolor\":\"#E5ECF6\",\"angularaxis\":{\"gridcolor\":\"white\",\"linecolor\":\"white\",\"ticks\":\"\"},\"radialaxis\":{\"gridcolor\":\"white\",\"linecolor\":\"white\",\"ticks\":\"\"}},\"ternary\":{\"bgcolor\":\"#E5ECF6\",\"aaxis\":{\"gridcolor\":\"white\",\"linecolor\":\"white\",\"ticks\":\"\"},\"baxis\":{\"gridcolor\":\"white\",\"linecolor\":\"white\",\"ticks\":\"\"},\"caxis\":{\"gridcolor\":\"white\",\"linecolor\":\"white\",\"ticks\":\"\"}},\"coloraxis\":{\"colorbar\":{\"outlinewidth\":0,\"ticks\":\"\"}},\"colorscale\":{\"sequential\":[[0.0,\"#0d0887\"],[0.1111111111111111,\"#46039f\"],[0.2222222222222222,\"#7201a8\"],[0.3333333333333333,\"#9c179e\"],[0.4444444444444444,\"#bd3786\"],[0.5555555555555556,\"#d8576b\"],[0.6666666666666666,\"#ed7953\"],[0.7777777777777778,\"#fb9f3a\"],[0.8888888888888888,\"#fdca26\"],[1.0,\"#f0f921\"]],\"sequentialminus\":[[0.0,\"#0d0887\"],[0.1111111111111111,\"#46039f\"],[0.2222222222222222,\"#7201a8\"],[0.3333333333333333,\"#9c179e\"],[0.4444444444444444,\"#bd3786\"],[0.5555555555555556,\"#d8576b\"],[0.6666666666666666,\"#ed7953\"],[0.7777777777777778,\"#fb9f3a\"],[0.8888888888888888,\"#fdca26\"],[1.0,\"#f0f921\"]],\"diverging\":[[0,\"#8e0152\"],[0.1,\"#c51b7d\"],[0.2,\"#de77ae\"],[0.3,\"#f1b6da\"],[0.4,\"#fde0ef\"],[0.5,\"#f7f7f7\"],[0.6,\"#e6f5d0\"],[0.7,\"#b8e186\"],[0.8,\"#7fbc41\"],[0.9,\"#4d9221\"],[1,\"#276419\"]]},\"xaxis\":{\"gridcolor\":\"white\",\"linecolor\":\"white\",\"ticks\":\"\",\"title\":{\"standoff\":15},\"zerolinecolor\":\"white\",\"automargin\":true,\"zerolinewidth\":2},\"yaxis\":{\"gridcolor\":\"white\",\"linecolor\":\"white\",\"ticks\":\"\",\"title\":{\"standoff\":15},\"zerolinecolor\":\"white\",\"automargin\":true,\"zerolinewidth\":2},\"scene\":{\"xaxis\":{\"backgroundcolor\":\"#E5ECF6\",\"gridcolor\":\"white\",\"linecolor\":\"white\",\"showbackground\":true,\"ticks\":\"\",\"zerolinecolor\":\"white\",\"gridwidth\":2},\"yaxis\":{\"backgroundcolor\":\"#E5ECF6\",\"gridcolor\":\"white\",\"linecolor\":\"white\",\"showbackground\":true,\"ticks\":\"\",\"zerolinecolor\":\"white\",\"gridwidth\":2},\"zaxis\":{\"backgroundcolor\":\"#E5ECF6\",\"gridcolor\":\"white\",\"linecolor\":\"white\",\"showbackground\":true,\"ticks\":\"\",\"zerolinecolor\":\"white\",\"gridwidth\":2}},\"shapedefaults\":{\"line\":{\"color\":\"#2a3f5f\"}},\"annotationdefaults\":{\"arrowcolor\":\"#2a3f5f\",\"arrowhead\":0,\"arrowwidth\":1},\"geo\":{\"bgcolor\":\"white\",\"landcolor\":\"#E5ECF6\",\"subunitcolor\":\"white\",\"showland\":true,\"showlakes\":true,\"lakecolor\":\"white\"},\"title\":{\"x\":0.05},\"mapbox\":{\"style\":\"light\"}}},\"xaxis\":{\"anchor\":\"y\",\"domain\":[0.0,1.0],\"title\":{\"text\":\"Atividades Extracurriculares\"}},\"yaxis\":{\"anchor\":\"x\",\"domain\":[0.0,1.0],\"title\":{\"text\":\"Nº de Alunos\"}},\"coloraxis\":{\"colorbar\":{\"title\":{\"text\":\"Participation in Extracurricular Activities\"}},\"colorscale\":[[0.0,\"#0d0887\"],[0.1111111111111111,\"#46039f\"],[0.2222222222222222,\"#7201a8\"],[0.3333333333333333,\"#9c179e\"],[0.4444444444444444,\"#bd3786\"],[0.5555555555555556,\"#d8576b\"],[0.6666666666666666,\"#ed7953\"],[0.7777777777777778,\"#fb9f3a\"],[0.8888888888888888,\"#fdca26\"],[1.0,\"#f0f921\"]]},\"legend\":{\"tracegroupgap\":0},\"title\":{\"text\":\"Atividades Extracurriculares\"},\"barmode\":\"relative\",\"width\":800,\"height\":500},                        {\"responsive\": true}                    ).then(function(){\n",
       "                            \n",
       "var gd = document.getElementById('4f8c00b4-8990-4abd-95b2-ef7c52330a91');\n",
       "var x = new MutationObserver(function (mutations, observer) {{\n",
       "        var display = window.getComputedStyle(gd).display;\n",
       "        if (!display || display === 'none') {{\n",
       "            console.log([gd, 'removed!']);\n",
       "            Plotly.purge(gd);\n",
       "            observer.disconnect();\n",
       "        }}\n",
       "}});\n",
       "\n",
       "// Listen for the removal of the full notebook cells\n",
       "var notebookContainer = gd.closest('#notebook-container');\n",
       "if (notebookContainer) {{\n",
       "    x.observe(notebookContainer, {childList: true});\n",
       "}}\n",
       "\n",
       "// Listen for the clearing of the current output cell\n",
       "var outputEl = gd.closest('.output');\n",
       "if (outputEl) {{\n",
       "    x.observe(outputEl, {childList: true});\n",
       "}}\n",
       "\n",
       "                        })                };                });            </script>        </div>"
      ]
     },
     "metadata": {},
     "output_type": "display_data"
    }
   ],
   "source": [
    "parti = copyData['Participation in Extracurricular Activities'].value_counts().reset_index()\n",
    "parti.columns = ['Participation in Extracurricular Activities', 'Count']\n",
    "\n",
    "custom_colors = ['#F0A500', '#F26D3F']\n",
    "\n",
    "fig = px.bar(parti, x='Participation in Extracurricular Activities', y='Count', \n",
    "             title='Atividades Extracurriculares',\n",
    "             color='Participation in Extracurricular Activities', \n",
    "             color_discrete_sequence=custom_colors)\n",
    "\n",
    "fig.update_layout(\n",
    "    xaxis_title='Atividades Extracurriculares',\n",
    "    yaxis_title='Nº de Alunos',\n",
    "    width=800,   \n",
    "    height=500   \n",
    ")\n",
    "\n",
    "fig.show()"
   ]
  },
  {
   "cell_type": "code",
   "execution_count": 15,
   "id": "d1c33cc2",
   "metadata": {
    "execution": {
     "iopub.execute_input": "2024-10-22T01:16:06.910686Z",
     "iopub.status.busy": "2024-10-22T01:16:06.910202Z",
     "iopub.status.idle": "2024-10-22T01:16:06.995685Z",
     "shell.execute_reply": "2024-10-22T01:16:06.994422Z"
    },
    "papermill": {
     "duration": 0.102654,
     "end_time": "2024-10-22T01:16:06.998525",
     "exception": false,
     "start_time": "2024-10-22T01:16:06.895871",
     "status": "completed"
    },
    "tags": []
   },
   "outputs": [
    {
     "data": {
      "text/html": [
       "<div>                            <div id=\"bfe70c54-ac6f-493c-bca2-f87b51dcae7d\" class=\"plotly-graph-div\" style=\"height:500px; width:800px;\"></div>            <script type=\"text/javascript\">                require([\"plotly\"], function(Plotly) {                    window.PLOTLYENV=window.PLOTLYENV || {};                                    if (document.getElementById(\"bfe70c54-ac6f-493c-bca2-f87b51dcae7d\")) {                    Plotly.newPlot(                        \"bfe70c54-ac6f-493c-bca2-f87b51dcae7d\",                        [{\"alignmentgroup\":\"True\",\"hovertemplate\":\"Parent Education Level=%{marker.color}\\u003cbr\\u003eCount=%{y}\\u003cextra\\u003e\\u003c\\u002fextra\\u003e\",\"legendgroup\":\"\",\"marker\":{\"color\":[3,1,2,0,4],\"coloraxis\":\"coloraxis\",\"pattern\":{\"shape\":\"\"}},\"name\":\"\",\"offsetgroup\":\"\",\"orientation\":\"v\",\"showlegend\":false,\"textposition\":\"auto\",\"x\":[3,1,2,0,4],\"xaxis\":\"x\",\"y\":[8580,6831,6822,6800,6627],\"yaxis\":\"y\",\"type\":\"bar\"}],                        {\"template\":{\"data\":{\"histogram2dcontour\":[{\"type\":\"histogram2dcontour\",\"colorbar\":{\"outlinewidth\":0,\"ticks\":\"\"},\"colorscale\":[[0.0,\"#0d0887\"],[0.1111111111111111,\"#46039f\"],[0.2222222222222222,\"#7201a8\"],[0.3333333333333333,\"#9c179e\"],[0.4444444444444444,\"#bd3786\"],[0.5555555555555556,\"#d8576b\"],[0.6666666666666666,\"#ed7953\"],[0.7777777777777778,\"#fb9f3a\"],[0.8888888888888888,\"#fdca26\"],[1.0,\"#f0f921\"]]}],\"choropleth\":[{\"type\":\"choropleth\",\"colorbar\":{\"outlinewidth\":0,\"ticks\":\"\"}}],\"histogram2d\":[{\"type\":\"histogram2d\",\"colorbar\":{\"outlinewidth\":0,\"ticks\":\"\"},\"colorscale\":[[0.0,\"#0d0887\"],[0.1111111111111111,\"#46039f\"],[0.2222222222222222,\"#7201a8\"],[0.3333333333333333,\"#9c179e\"],[0.4444444444444444,\"#bd3786\"],[0.5555555555555556,\"#d8576b\"],[0.6666666666666666,\"#ed7953\"],[0.7777777777777778,\"#fb9f3a\"],[0.8888888888888888,\"#fdca26\"],[1.0,\"#f0f921\"]]}],\"heatmap\":[{\"type\":\"heatmap\",\"colorbar\":{\"outlinewidth\":0,\"ticks\":\"\"},\"colorscale\":[[0.0,\"#0d0887\"],[0.1111111111111111,\"#46039f\"],[0.2222222222222222,\"#7201a8\"],[0.3333333333333333,\"#9c179e\"],[0.4444444444444444,\"#bd3786\"],[0.5555555555555556,\"#d8576b\"],[0.6666666666666666,\"#ed7953\"],[0.7777777777777778,\"#fb9f3a\"],[0.8888888888888888,\"#fdca26\"],[1.0,\"#f0f921\"]]}],\"heatmapgl\":[{\"type\":\"heatmapgl\",\"colorbar\":{\"outlinewidth\":0,\"ticks\":\"\"},\"colorscale\":[[0.0,\"#0d0887\"],[0.1111111111111111,\"#46039f\"],[0.2222222222222222,\"#7201a8\"],[0.3333333333333333,\"#9c179e\"],[0.4444444444444444,\"#bd3786\"],[0.5555555555555556,\"#d8576b\"],[0.6666666666666666,\"#ed7953\"],[0.7777777777777778,\"#fb9f3a\"],[0.8888888888888888,\"#fdca26\"],[1.0,\"#f0f921\"]]}],\"contourcarpet\":[{\"type\":\"contourcarpet\",\"colorbar\":{\"outlinewidth\":0,\"ticks\":\"\"}}],\"contour\":[{\"type\":\"contour\",\"colorbar\":{\"outlinewidth\":0,\"ticks\":\"\"},\"colorscale\":[[0.0,\"#0d0887\"],[0.1111111111111111,\"#46039f\"],[0.2222222222222222,\"#7201a8\"],[0.3333333333333333,\"#9c179e\"],[0.4444444444444444,\"#bd3786\"],[0.5555555555555556,\"#d8576b\"],[0.6666666666666666,\"#ed7953\"],[0.7777777777777778,\"#fb9f3a\"],[0.8888888888888888,\"#fdca26\"],[1.0,\"#f0f921\"]]}],\"surface\":[{\"type\":\"surface\",\"colorbar\":{\"outlinewidth\":0,\"ticks\":\"\"},\"colorscale\":[[0.0,\"#0d0887\"],[0.1111111111111111,\"#46039f\"],[0.2222222222222222,\"#7201a8\"],[0.3333333333333333,\"#9c179e\"],[0.4444444444444444,\"#bd3786\"],[0.5555555555555556,\"#d8576b\"],[0.6666666666666666,\"#ed7953\"],[0.7777777777777778,\"#fb9f3a\"],[0.8888888888888888,\"#fdca26\"],[1.0,\"#f0f921\"]]}],\"mesh3d\":[{\"type\":\"mesh3d\",\"colorbar\":{\"outlinewidth\":0,\"ticks\":\"\"}}],\"scatter\":[{\"fillpattern\":{\"fillmode\":\"overlay\",\"size\":10,\"solidity\":0.2},\"type\":\"scatter\"}],\"parcoords\":[{\"type\":\"parcoords\",\"line\":{\"colorbar\":{\"outlinewidth\":0,\"ticks\":\"\"}}}],\"scatterpolargl\":[{\"type\":\"scatterpolargl\",\"marker\":{\"colorbar\":{\"outlinewidth\":0,\"ticks\":\"\"}}}],\"bar\":[{\"error_x\":{\"color\":\"#2a3f5f\"},\"error_y\":{\"color\":\"#2a3f5f\"},\"marker\":{\"line\":{\"color\":\"#E5ECF6\",\"width\":0.5},\"pattern\":{\"fillmode\":\"overlay\",\"size\":10,\"solidity\":0.2}},\"type\":\"bar\"}],\"scattergeo\":[{\"type\":\"scattergeo\",\"marker\":{\"colorbar\":{\"outlinewidth\":0,\"ticks\":\"\"}}}],\"scatterpolar\":[{\"type\":\"scatterpolar\",\"marker\":{\"colorbar\":{\"outlinewidth\":0,\"ticks\":\"\"}}}],\"histogram\":[{\"marker\":{\"pattern\":{\"fillmode\":\"overlay\",\"size\":10,\"solidity\":0.2}},\"type\":\"histogram\"}],\"scattergl\":[{\"type\":\"scattergl\",\"marker\":{\"colorbar\":{\"outlinewidth\":0,\"ticks\":\"\"}}}],\"scatter3d\":[{\"type\":\"scatter3d\",\"line\":{\"colorbar\":{\"outlinewidth\":0,\"ticks\":\"\"}},\"marker\":{\"colorbar\":{\"outlinewidth\":0,\"ticks\":\"\"}}}],\"scattermapbox\":[{\"type\":\"scattermapbox\",\"marker\":{\"colorbar\":{\"outlinewidth\":0,\"ticks\":\"\"}}}],\"scatterternary\":[{\"type\":\"scatterternary\",\"marker\":{\"colorbar\":{\"outlinewidth\":0,\"ticks\":\"\"}}}],\"scattercarpet\":[{\"type\":\"scattercarpet\",\"marker\":{\"colorbar\":{\"outlinewidth\":0,\"ticks\":\"\"}}}],\"carpet\":[{\"aaxis\":{\"endlinecolor\":\"#2a3f5f\",\"gridcolor\":\"white\",\"linecolor\":\"white\",\"minorgridcolor\":\"white\",\"startlinecolor\":\"#2a3f5f\"},\"baxis\":{\"endlinecolor\":\"#2a3f5f\",\"gridcolor\":\"white\",\"linecolor\":\"white\",\"minorgridcolor\":\"white\",\"startlinecolor\":\"#2a3f5f\"},\"type\":\"carpet\"}],\"table\":[{\"cells\":{\"fill\":{\"color\":\"#EBF0F8\"},\"line\":{\"color\":\"white\"}},\"header\":{\"fill\":{\"color\":\"#C8D4E3\"},\"line\":{\"color\":\"white\"}},\"type\":\"table\"}],\"barpolar\":[{\"marker\":{\"line\":{\"color\":\"#E5ECF6\",\"width\":0.5},\"pattern\":{\"fillmode\":\"overlay\",\"size\":10,\"solidity\":0.2}},\"type\":\"barpolar\"}],\"pie\":[{\"automargin\":true,\"type\":\"pie\"}]},\"layout\":{\"autotypenumbers\":\"strict\",\"colorway\":[\"#636efa\",\"#EF553B\",\"#00cc96\",\"#ab63fa\",\"#FFA15A\",\"#19d3f3\",\"#FF6692\",\"#B6E880\",\"#FF97FF\",\"#FECB52\"],\"font\":{\"color\":\"#2a3f5f\"},\"hovermode\":\"closest\",\"hoverlabel\":{\"align\":\"left\"},\"paper_bgcolor\":\"white\",\"plot_bgcolor\":\"#E5ECF6\",\"polar\":{\"bgcolor\":\"#E5ECF6\",\"angularaxis\":{\"gridcolor\":\"white\",\"linecolor\":\"white\",\"ticks\":\"\"},\"radialaxis\":{\"gridcolor\":\"white\",\"linecolor\":\"white\",\"ticks\":\"\"}},\"ternary\":{\"bgcolor\":\"#E5ECF6\",\"aaxis\":{\"gridcolor\":\"white\",\"linecolor\":\"white\",\"ticks\":\"\"},\"baxis\":{\"gridcolor\":\"white\",\"linecolor\":\"white\",\"ticks\":\"\"},\"caxis\":{\"gridcolor\":\"white\",\"linecolor\":\"white\",\"ticks\":\"\"}},\"coloraxis\":{\"colorbar\":{\"outlinewidth\":0,\"ticks\":\"\"}},\"colorscale\":{\"sequential\":[[0.0,\"#0d0887\"],[0.1111111111111111,\"#46039f\"],[0.2222222222222222,\"#7201a8\"],[0.3333333333333333,\"#9c179e\"],[0.4444444444444444,\"#bd3786\"],[0.5555555555555556,\"#d8576b\"],[0.6666666666666666,\"#ed7953\"],[0.7777777777777778,\"#fb9f3a\"],[0.8888888888888888,\"#fdca26\"],[1.0,\"#f0f921\"]],\"sequentialminus\":[[0.0,\"#0d0887\"],[0.1111111111111111,\"#46039f\"],[0.2222222222222222,\"#7201a8\"],[0.3333333333333333,\"#9c179e\"],[0.4444444444444444,\"#bd3786\"],[0.5555555555555556,\"#d8576b\"],[0.6666666666666666,\"#ed7953\"],[0.7777777777777778,\"#fb9f3a\"],[0.8888888888888888,\"#fdca26\"],[1.0,\"#f0f921\"]],\"diverging\":[[0,\"#8e0152\"],[0.1,\"#c51b7d\"],[0.2,\"#de77ae\"],[0.3,\"#f1b6da\"],[0.4,\"#fde0ef\"],[0.5,\"#f7f7f7\"],[0.6,\"#e6f5d0\"],[0.7,\"#b8e186\"],[0.8,\"#7fbc41\"],[0.9,\"#4d9221\"],[1,\"#276419\"]]},\"xaxis\":{\"gridcolor\":\"white\",\"linecolor\":\"white\",\"ticks\":\"\",\"title\":{\"standoff\":15},\"zerolinecolor\":\"white\",\"automargin\":true,\"zerolinewidth\":2},\"yaxis\":{\"gridcolor\":\"white\",\"linecolor\":\"white\",\"ticks\":\"\",\"title\":{\"standoff\":15},\"zerolinecolor\":\"white\",\"automargin\":true,\"zerolinewidth\":2},\"scene\":{\"xaxis\":{\"backgroundcolor\":\"#E5ECF6\",\"gridcolor\":\"white\",\"linecolor\":\"white\",\"showbackground\":true,\"ticks\":\"\",\"zerolinecolor\":\"white\",\"gridwidth\":2},\"yaxis\":{\"backgroundcolor\":\"#E5ECF6\",\"gridcolor\":\"white\",\"linecolor\":\"white\",\"showbackground\":true,\"ticks\":\"\",\"zerolinecolor\":\"white\",\"gridwidth\":2},\"zaxis\":{\"backgroundcolor\":\"#E5ECF6\",\"gridcolor\":\"white\",\"linecolor\":\"white\",\"showbackground\":true,\"ticks\":\"\",\"zerolinecolor\":\"white\",\"gridwidth\":2}},\"shapedefaults\":{\"line\":{\"color\":\"#2a3f5f\"}},\"annotationdefaults\":{\"arrowcolor\":\"#2a3f5f\",\"arrowhead\":0,\"arrowwidth\":1},\"geo\":{\"bgcolor\":\"white\",\"landcolor\":\"#E5ECF6\",\"subunitcolor\":\"white\",\"showland\":true,\"showlakes\":true,\"lakecolor\":\"white\"},\"title\":{\"x\":0.05},\"mapbox\":{\"style\":\"light\"}}},\"xaxis\":{\"anchor\":\"y\",\"domain\":[0.0,1.0],\"title\":{\"text\":\"0 - Associate 1 - Bachelor 2 - High School 3 - Master 4 - Doctorate\"}},\"yaxis\":{\"anchor\":\"x\",\"domain\":[0.0,1.0],\"title\":{\"text\":\"Count\"}},\"coloraxis\":{\"colorbar\":{\"title\":{\"text\":\"Parent Education Level\"}},\"colorscale\":[[0.0,\"#0d0887\"],[0.1111111111111111,\"#46039f\"],[0.2222222222222222,\"#7201a8\"],[0.3333333333333333,\"#9c179e\"],[0.4444444444444444,\"#bd3786\"],[0.5555555555555556,\"#d8576b\"],[0.6666666666666666,\"#ed7953\"],[0.7777777777777778,\"#fb9f3a\"],[0.8888888888888888,\"#fdca26\"],[1.0,\"#f0f921\"]]},\"legend\":{\"tracegroupgap\":0},\"title\":{\"text\":\"Nível Educacional dos Pais\"},\"barmode\":\"relative\",\"width\":800,\"height\":500},                        {\"responsive\": true}                    ).then(function(){\n",
       "                            \n",
       "var gd = document.getElementById('bfe70c54-ac6f-493c-bca2-f87b51dcae7d');\n",
       "var x = new MutationObserver(function (mutations, observer) {{\n",
       "        var display = window.getComputedStyle(gd).display;\n",
       "        if (!display || display === 'none') {{\n",
       "            console.log([gd, 'removed!']);\n",
       "            Plotly.purge(gd);\n",
       "            observer.disconnect();\n",
       "        }}\n",
       "}});\n",
       "\n",
       "// Listen for the removal of the full notebook cells\n",
       "var notebookContainer = gd.closest('#notebook-container');\n",
       "if (notebookContainer) {{\n",
       "    x.observe(notebookContainer, {childList: true});\n",
       "}}\n",
       "\n",
       "// Listen for the clearing of the current output cell\n",
       "var outputEl = gd.closest('.output');\n",
       "if (outputEl) {{\n",
       "    x.observe(outputEl, {childList: true});\n",
       "}}\n",
       "\n",
       "                        })                };                });            </script>        </div>"
      ]
     },
     "metadata": {},
     "output_type": "display_data"
    }
   ],
   "source": [
    "parent_edu_count = copyData['Parent Education Level'].value_counts().reset_index()\n",
    "parent_edu_count.columns = ['Parent Education Level', 'Count']\n",
    "\n",
    "custom_colors = ['#F0A500', '#F26D3F', '#29A0B1', '#C25A7C', '#6A0572']\n",
    "\n",
    "fig = px.bar(parent_edu_count, x='Parent Education Level', y='Count', \n",
    "             title='Nível Educacional dos Pais',\n",
    "             color='Parent Education Level', \n",
    "             color_discrete_sequence=custom_colors)\n",
    "\n",
    "fig.update_layout(\n",
    "    xaxis_title='0 - Associate 1 - Bachelor 2 - High School 3 - Master 4 - Doctorate',\n",
    "    yaxis_title='Count',\n",
    "    width=800,   \n",
    "    height=500   \n",
    ")\n",
    "\n",
    "fig.show()"
   ]
  },
  {
   "cell_type": "markdown",
   "id": "f4fe7412",
   "metadata": {
    "papermill": {
     "duration": 0.012581,
     "end_time": "2024-10-22T01:16:07.025231",
     "exception": false,
     "start_time": "2024-10-22T01:16:07.012650",
     "status": "completed"
    },
    "tags": []
   },
   "source": [
    "# Variáveis Teste e Alvo"
   ]
  },
  {
   "cell_type": "code",
   "execution_count": 16,
   "id": "9659b0e4",
   "metadata": {
    "execution": {
     "iopub.execute_input": "2024-10-22T01:16:07.052550Z",
     "iopub.status.busy": "2024-10-22T01:16:07.052064Z",
     "iopub.status.idle": "2024-10-22T01:16:07.067766Z",
     "shell.execute_reply": "2024-10-22T01:16:07.066183Z"
    },
    "papermill": {
     "duration": 0.032541,
     "end_time": "2024-10-22T01:16:07.070535",
     "exception": false,
     "start_time": "2024-10-22T01:16:07.037994",
     "status": "completed"
    },
    "tags": []
   },
   "outputs": [
    {
     "name": "stdout",
     "output_type": "stream",
     "text": [
      "0        1\n",
      "1        0\n",
      "2        0\n",
      "3        0\n",
      "4        0\n",
      "        ..\n",
      "39994    0\n",
      "39995    0\n",
      "39996    1\n",
      "39997    0\n",
      "39999    1\n",
      "Name: Passed, Length: 35660, dtype: int64\n",
      "       Study Hours per Week  Attendance Rate  Previous Grades  \\\n",
      "0                      12.5         74.14879             75.0   \n",
      "1                       9.3         95.30000             60.6   \n",
      "2                      13.2         74.14879             64.0   \n",
      "3                      17.6         76.80000             62.4   \n",
      "4                       8.8         89.30000             72.7   \n",
      "...                     ...              ...              ...   \n",
      "39994                   5.1         92.10000             46.1   \n",
      "39995                  15.6         93.80000             51.4   \n",
      "39996                  11.3         66.40000             64.2   \n",
      "39997                  13.1         65.60000             38.1   \n",
      "39999                  11.8         55.10000             68.5   \n",
      "\n",
      "       Participation in Extracurricular Activities  Parent Education Level  \n",
      "0                                                1                       4  \n",
      "1                                                0                       3  \n",
      "2                                                0                       0  \n",
      "3                                                1                       1  \n",
      "4                                                0                       4  \n",
      "...                                            ...                     ...  \n",
      "39994                                            1                       2  \n",
      "39995                                            1                       4  \n",
      "39996                                            0                       2  \n",
      "39997                                            0                       1  \n",
      "39999                                            0                       1  \n",
      "\n",
      "[35660 rows x 5 columns]\n"
     ]
    }
   ],
   "source": [
    "y = copyData.Passed\n",
    "x = copyData.drop(columns=['Passed'], axis=1)\n",
    "print(y)\n",
    "print(x)"
   ]
  },
  {
   "cell_type": "markdown",
   "id": "4c53d37c",
   "metadata": {
    "papermill": {
     "duration": 0.012595,
     "end_time": "2024-10-22T01:16:07.096476",
     "exception": false,
     "start_time": "2024-10-22T01:16:07.083881",
     "status": "completed"
    },
    "tags": []
   },
   "source": [
    "**Separando as variáveis em de treino e teste 80/20**"
   ]
  },
  {
   "cell_type": "code",
   "execution_count": 17,
   "id": "115a47a0",
   "metadata": {
    "execution": {
     "iopub.execute_input": "2024-10-22T01:16:07.124570Z",
     "iopub.status.busy": "2024-10-22T01:16:07.124128Z",
     "iopub.status.idle": "2024-10-22T01:16:07.140580Z",
     "shell.execute_reply": "2024-10-22T01:16:07.139497Z"
    },
    "papermill": {
     "duration": 0.03393,
     "end_time": "2024-10-22T01:16:07.143488",
     "exception": false,
     "start_time": "2024-10-22T01:16:07.109558",
     "status": "completed"
    },
    "tags": []
   },
   "outputs": [],
   "source": [
    "x_train, x_test, y_train, y_test = train_test_split(x, y, test_size = 0.2, random_state = 2)"
   ]
  }
 ],
 "metadata": {
  "kaggle": {
   "accelerator": "none",
   "dataSources": [
    {
     "datasetId": 5732904,
     "sourceId": 9435306,
     "sourceType": "datasetVersion"
    }
   ],
   "dockerImageVersionId": 30761,
   "isGpuEnabled": false,
   "isInternetEnabled": false,
   "language": "python",
   "sourceType": "notebook"
  },
  "kernelspec": {
   "display_name": "Python 3",
   "language": "python",
   "name": "python3"
  },
  "language_info": {
   "codemirror_mode": {
    "name": "ipython",
    "version": 3
   },
   "file_extension": ".py",
   "mimetype": "text/x-python",
   "name": "python",
   "nbconvert_exporter": "python",
   "pygments_lexer": "ipython3",
   "version": "3.10.14"
  },
  "papermill": {
   "default_parameters": {},
   "duration": 12.921186,
   "end_time": "2024-10-22T01:16:07.979525",
   "environment_variables": {},
   "exception": null,
   "input_path": "__notebook__.ipynb",
   "output_path": "__notebook__.ipynb",
   "parameters": {},
   "start_time": "2024-10-22T01:15:55.058339",
   "version": "2.6.0"
  }
 },
 "nbformat": 4,
 "nbformat_minor": 5
}
